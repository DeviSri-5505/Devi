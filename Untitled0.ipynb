{
  "nbformat": 4,
  "nbformat_minor": 0,
  "metadata": {
    "colab": {
      "provenance": [],
      "authorship_tag": "ABX9TyNHbWJZafubxNf7HEiwQgR8",
      "include_colab_link": true
    },
    "kernelspec": {
      "name": "python3",
      "display_name": "Python 3"
    },
    "language_info": {
      "name": "python"
    }
  },
  "cells": [
    {
      "cell_type": "markdown",
      "metadata": {
        "id": "view-in-github",
        "colab_type": "text"
      },
      "source": [
        "<a href=\"https://colab.research.google.com/github/DeviSri-5505/Devi/blob/main/Untitled0.ipynb\" target=\"_parent\"><img src=\"https://colab.research.google.com/assets/colab-badge.svg\" alt=\"Open In Colab\"/></a>"
      ]
    },
    {
      "cell_type": "code",
      "execution_count": null,
      "metadata": {
        "id": "-4vF5RE8Xo8L"
      },
      "outputs": [],
      "source": [
        "# prompt: code to print the sum of the numbers given in a string\n",
        "\n",
        "def sum_numbers_in_string(input_string):\n",
        "    \"\"\"\n",
        "    Calculates the sum of numbers present in a string.\n",
        "\n",
        "    Args:\n",
        "      input_string: The string containing numbers.\n",
        "\n",
        "    Returns:\n",
        "      The sum of the numbers found in the string. Returns 0 if no numbers are found or the input is invalid.\n",
        "    \"\"\"\n",
        "    total_sum = 0\n",
        "    current_number = \"\"\n",
        "\n",
        "    for char in input_string:\n",
        "        if char.isdigit():\n",
        "            current_number += char\n",
        "        else:\n",
        "            if current_number:\n",
        "                total_sum += int(current_number)\n",
        "                current_number = \"\"\n",
        "\n",
        "    if current_number:\n",
        "        total_sum += int(current_number)\n",
        "\n",
        "    return total_sum\n",
        "# Example usage\n",
        "string1 = \"123abc456def789\"\n",
        "result1 = sum_numbers_in_string(string1)\n",
        "print(f\"Sum of numbers in '{string1}': {result1}\")  # Output: 1368\n",
        "\n",
        "string2 = \"abcxyz\"\n",
        "result2 = sum_numbers_in_string(string2)\n",
        "print(f\"Sum of numbers in '{string2}': {result2}\")  # Output: 0\n",
        "\n",
        "string3 = \"12345\"\n",
        "result3 = sum_numbers_in_string(string3)\n",
        "print(f\"Sum of numbers in '{string3}': {result3}\") # Output: 12345\n",
        "\n",
        "string4 = \"1a2b3c4d5e\"\n",
        "result4 = sum_numbers_in_string(string4)\n",
        "print(f\"Sum of numbers in '{string4}': {result4}\") # Output: 15\n"
      ]
    }
  ]
}